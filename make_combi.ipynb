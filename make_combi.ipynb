{
 "cells": [
  {
   "cell_type": "code",
   "execution_count": 1,
   "id": "11e12b0b-9769-4760-807e-9d03325da216",
   "metadata": {},
   "outputs": [],
   "source": [
    "import pandas as pd"
   ]
  },
  {
   "cell_type": "code",
   "execution_count": 39,
   "id": "34e4d355-b07e-4155-9dc0-290ff3bb10f3",
   "metadata": {},
   "outputs": [
    {
     "name": "stderr",
     "output_type": "stream",
     "text": [
      "644it [00:01, 617.87it/s]"
     ]
    },
    {
     "name": "stdout",
     "output_type": "stream",
     "text": [
      "6440\n"
     ]
    },
    {
     "name": "stderr",
     "output_type": "stream",
     "text": [
      "\n"
     ]
    }
   ],
   "source": [
    "import pandas as pd\n",
    "from tqdm import tqdm\n",
    "data = pd.read_csv('train.csv')\n",
    "formatted_data = []\n",
    "\n",
    "for _, row in tqdm(data.iterrows()):\n",
    "    for q_col in ['질문_1', '질문_2']:\n",
    "        for a_col in ['답변_1', '답변_2', '답변_3', '답변_4', '답변_5']:\n",
    "            question = row[q_col]\n",
    "            answer = row[a_col]\n",
    "            formatted_data.append([question, answer])\n",
    "\n",
    "# CSV 파일로 저장\n",
    "formatted_df = pd.DataFrame(formatted_data, columns=['질문', '답변'])\n",
    "print(len(formatted_df))\n",
    "formatted_df.to_csv('train_1by1.csv', index=False)\n"
   ]
  },
  {
   "cell_type": "code",
   "execution_count": 1,
   "id": "a077fa9e-0e93-4c55-94a9-816a6594e9fc",
   "metadata": {},
   "outputs": [
    {
     "name": "stderr",
     "output_type": "stream",
     "text": [
      "20733580it [00:05, 3995624.15it/s]\n",
      "20733580it [00:08, 2524555.23it/s]\n"
     ]
    }
   ],
   "source": [
    "import pandas as pd\n",
    "from tqdm import tqdm\n",
    "from itertools import combinations\n",
    "from itertools import permutations\n",
    "\n",
    "# CSV 파일에서 데이터 불러오기\n",
    "formatted_df = pd.read_csv('train_1by1.csv')\n",
    "\n",
    "# 질문과 답변 데이터 추출\n",
    "questions = formatted_df['질문'].tolist()\n",
    "answers = formatted_df['답변'].tolist()\n",
    "\n",
    "# 모든 질문 쌍의 조합 생성\n",
    "combined_questions = list([f\"{q1} 그리고 {q2}\" for q1, q2 in tqdm(combinations(questions, 2))])\n",
    "\n",
    "# 모든 답변 쌍의 조합 생성\n",
    "combined_answers = list([f\"{q1} 그리고 {q2}\" for q1, q2 in tqdm(combinations(answers, 2))])\n"
   ]
  },
  {
   "cell_type": "code",
   "execution_count": 2,
   "id": "1afc0ca8-00bf-47fd-a89e-936ec3c17d9b",
   "metadata": {},
   "outputs": [
    {
     "data": {
      "text/plain": [
       "['면진장치가 뭐야? 그리고 면진장치가 뭐야?',\n",
       " '면진장치가 뭐야? 그리고 면진장치가 뭐야?',\n",
       " '면진장치가 뭐야? 그리고 면진장치가 뭐야?',\n",
       " '면진장치가 뭐야? 그리고 면진장치가 뭐야?',\n",
       " '면진장치가 뭐야? 그리고 면진장치에 사용되는 주요 기술은 무엇인가요?',\n",
       " '면진장치가 뭐야? 그리고 면진장치에 사용되는 주요 기술은 무엇인가요?',\n",
       " '면진장치가 뭐야? 그리고 면진장치에 사용되는 주요 기술은 무엇인가요?',\n",
       " '면진장치가 뭐야? 그리고 면진장치에 사용되는 주요 기술은 무엇인가요?',\n",
       " '면진장치가 뭐야? 그리고 면진장치에 사용되는 주요 기술은 무엇인가요?',\n",
       " '면진장치가 뭐야? 그리고 내진설계의 종류 좀 알려줘']"
      ]
     },
     "execution_count": 2,
     "metadata": {},
     "output_type": "execute_result"
    }
   ],
   "source": [
    "combined_questions[:10]"
   ]
  },
  {
   "cell_type": "code",
   "execution_count": 3,
   "id": "a2b4c175-97d1-461b-8a35-c56f526006ba",
   "metadata": {},
   "outputs": [
    {
     "data": {
      "text/plain": [
       "['면진장치란 지반에서 오는 진동 에너지를 흡수하여 건물에 주는 진동을 줄여주는 진동 격리장치입니다. 그리고 면진장치란 건물의 지반에서 발생하는 진동 에너지를 흡수하여 건물을 보호하고, 진동을 줄여주는 장치입니다. 주로 지진이나 기타 지반의 진동으로 인한 피해를 방지하기 위해 사용됩니다.',\n",
       " '면진장치란 지반에서 오는 진동 에너지를 흡수하여 건물에 주는 진동을 줄여주는 진동 격리장치입니다. 그리고 면진장치란 지반으로부터 발생하는 진동 에너지를 흡수하여 건물에 전달되는 진동을 줄여주는 장치를 말합니다. 이를 통해 건물의 안전성과 안정성을 향상시키고, 지진 등의 외부 충격으로부터 보호하는 역할을 합니다. 지진으로 인한 건물의 피해를 최소화하기 위해 주로 사용됩니다.',\n",
       " '면진장치란 지반에서 오는 진동 에너지를 흡수하여 건물에 주는 진동을 줄여주는 진동 격리장치입니다. 그리고 면진장치는 건물의 지반으로부터 오는 진동 에너지를 흡수하여 건물에 전달되는 진동을 최소화해 주는 진동 격리장치입니다. 이를 통해 건물 내부의 진동을 줄이고 안정성을 유지하는 데 도움을 줍니다.',\n",
       " '면진장치란 지반에서 오는 진동 에너지를 흡수하여 건물에 주는 진동을 줄여주는 진동 격리장치입니다. 그리고 면진장치는 건물에 오는 지반 진동의 영향을 최대한으로 흡수하여 건물에 전달되는 진동을 줄여주는 장치입니다. 지반으로부터 오는 진동 에너지의 영향을 완화시키기 위해 사용됩니다.',\n",
       " '면진장치란 지반에서 오는 진동 에너지를 흡수하여 건물에 주는 진동을 줄여주는 진동 격리장치입니다. 그리고 면진장치란 지반에서 오는 진동 에너지를 흡수하여 건물에 주는 진동을 줄여주는 진동 격리장치입니다.',\n",
       " '면진장치란 지반에서 오는 진동 에너지를 흡수하여 건물에 주는 진동을 줄여주는 진동 격리장치입니다. 그리고 면진장치란 건물의 지반에서 발생하는 진동 에너지를 흡수하여 건물을 보호하고, 진동을 줄여주는 장치입니다. 주로 지진이나 기타 지반의 진동으로 인한 피해를 방지하기 위해 사용됩니다.',\n",
       " '면진장치란 지반에서 오는 진동 에너지를 흡수하여 건물에 주는 진동을 줄여주는 진동 격리장치입니다. 그리고 면진장치란 지반으로부터 발생하는 진동 에너지를 흡수하여 건물에 전달되는 진동을 줄여주는 장치를 말합니다. 이를 통해 건물의 안전성과 안정성을 향상시키고, 지진 등의 외부 충격으로부터 보호하는 역할을 합니다. 지진으로 인한 건물의 피해를 최소화하기 위해 주로 사용됩니다.',\n",
       " '면진장치란 지반에서 오는 진동 에너지를 흡수하여 건물에 주는 진동을 줄여주는 진동 격리장치입니다. 그리고 면진장치는 건물의 지반으로부터 오는 진동 에너지를 흡수하여 건물에 전달되는 진동을 최소화해 주는 진동 격리장치입니다. 이를 통해 건물 내부의 진동을 줄이고 안정성을 유지하는 데 도움을 줍니다.',\n",
       " '면진장치란 지반에서 오는 진동 에너지를 흡수하여 건물에 주는 진동을 줄여주는 진동 격리장치입니다. 그리고 면진장치는 건물에 오는 지반 진동의 영향을 최대한으로 흡수하여 건물에 전달되는 진동을 줄여주는 장치입니다. 지반으로부터 오는 진동 에너지의 영향을 완화시키기 위해 사용됩니다.',\n",
       " '면진장치란 지반에서 오는 진동 에너지를 흡수하여 건물에 주는 진동을 줄여주는 진동 격리장치입니다. 그리고 내진 설계의 종류로 내진구조, 제진구조, 면진구조가 있습니다.']"
      ]
     },
     "execution_count": 3,
     "metadata": {},
     "output_type": "execute_result"
    }
   ],
   "source": [
    "combined_answers[:10]"
   ]
  },
  {
   "cell_type": "code",
   "execution_count": 8,
   "id": "5dcc93c5-6a72-461d-8cc2-4f7e61cf8550",
   "metadata": {},
   "outputs": [],
   "source": [
    "# 결과를 CSV 파일에 저장\n",
    "output_data = {'질문': combined_questions[:10000000] , '답변': combined_answers[:10000000]}\n",
    "\n",
    "output_df = pd.DataFrame(output_data)\n",
    "output_df.to_csv('train_combined_1000k.csv', index=False)"
   ]
  },
  {
   "cell_type": "code",
   "execution_count": 7,
   "id": "3a5fc4ad-1e76-4bc4-bda4-e6e31da85b6e",
   "metadata": {},
   "outputs": [],
   "source": [
    "# 결과를 CSV 파일에 저장\n",
    "output_data = {'질문': combined_questions[10000000:] , '답변': combined_answers[10000000:]}\n",
    "\n",
    "output_df = pd.DataFrame(output_data)\n",
    "output_df.to_csv('train_combined_after1000k.csv', index=False)"
   ]
  },
  {
   "cell_type": "code",
   "execution_count": 9,
   "id": "7435a9da-f034-4008-a83a-7c074a9b5f72",
   "metadata": {},
   "outputs": [
    {
     "name": "stdout",
     "output_type": "stream",
     "text": [
      "Dataset({\n",
      "    features: ['text'],\n",
      "    num_rows: 10000000\n",
      "})\n"
     ]
    },
    {
     "data": {
      "application/vnd.jupyter.widget-view+json": {
       "model_id": "c540441a4be848888c191c9bb73cc6e8",
       "version_major": 2,
       "version_minor": 0
      },
      "text/plain": [
       "Saving the dataset (0/20 shards):   0%|          | 0/10000000 [00:00<?, ? examples/s]"
      ]
     },
     "metadata": {},
     "output_type": "display_data"
    }
   ],
   "source": [
    "from datasets import Dataset\n",
    "import pandas as pd\n",
    "data = pd.read_csv('./train_combined_1000k.csv')\n",
    "questions = data['질문'].tolist()\n",
    "answers = data['답변'].tolist()\n",
    "\n",
    "formatted_data = [{'text': f\"<s> Question: {q} Answer: {a} </s>\"} for q, a in zip(questions, answers)]\n",
    "\n",
    "dataset = Dataset.from_dict({\"text\": [item['text'] for item in formatted_data]})\n",
    "\n",
    "print(dataset)\n",
    "dataset.save_to_disk(\"\btrain_combined_1000k\")"
   ]
  },
  {
   "cell_type": "markdown",
   "id": "e656a238-53a0-4979-af62-8fe8e5ea7b2d",
   "metadata": {},
   "source": [
    "# 2개의 질문만 가지게 만들기"
   ]
  },
  {
   "cell_type": "code",
   "execution_count": 10,
   "id": "b2867bdc-5a31-45da-9710-f13d5a833066",
   "metadata": {},
   "outputs": [
    {
     "name": "stdout",
     "output_type": "stream",
     "text": [
      "Dataset({\n",
      "    features: ['text'],\n",
      "    num_rows: 6440\n",
      "})\n"
     ]
    },
    {
     "data": {
      "application/vnd.jupyter.widget-view+json": {
       "model_id": "0d660d522f084c41bc35a05f4ae8e125",
       "version_major": 2,
       "version_minor": 0
      },
      "text/plain": [
       "Saving the dataset (0/1 shards):   0%|          | 0/6440 [00:00<?, ? examples/s]"
      ]
     },
     "metadata": {},
     "output_type": "display_data"
    }
   ],
   "source": [
    "import pandas as pd\n",
    "from tqdm import tqdm\n",
    "from datasets import Dataset\n",
    "# CSV 파일에서 데이터 불러오기\n",
    "formatted_df = pd.read_csv('train_1by1.csv')\n",
    "\n",
    "# 질문과 답변 데이터 추출\n",
    "forward_questions = formatted_df['질문'].tolist()\n",
    "forward_answers = formatted_df['답변'].tolist()\n",
    "\n",
    "# 리스트를 뒤집어서 역순으로 만들기\n",
    "backward_questions = list(reversed(forward_questions))\n",
    "backward_answers = list(reversed(forward_answers))\n",
    "\n",
    "# 여기서부터는 구체적인 조합 또는 순열 생성 방법에 따라 코드를 추가하십시오.\n",
    "# 예를 들어, 질문과 답변의 쌍을 직접 매핑하려면 zip을 사용할 수 있습니다.\n",
    "combined_questions = [f\"{q1} 그리고 {q2}\" for q1, q2 in zip(forward_questions, backward_questions)]\n",
    "combined_answer = [f\"{q1} 그리고 {q2}\" for q1, q2 in zip(forward_answers, backward_answers)]\n",
    "\n",
    "formatted_data = [{'text': f\"<s> Question: {q} Answer: {a} </s>\"} for q, a in zip(combined_questions, combined_answer)]\n",
    "\n",
    "dataset = Dataset.from_dict({\"text\": [item['text'] for item in formatted_data]})\n",
    "\n",
    "print(dataset)\n",
    "dataset.save_to_disk(\"\btrain_combined_doubleQ\")\n"
   ]
  },
  {
   "cell_type": "code",
   "execution_count": 12,
   "id": "3b3b3b6d-0f97-4618-becf-88d7a39c7f1c",
   "metadata": {},
   "outputs": [
    {
     "data": {
      "text/plain": [
       "[{'text': '<s> Question: 면진장치가 뭐야? 그리고 AD, PD에 면한 벽체 결로에 대한 대책은 어떤 것이 있나요? Answer: 면진장치란 지반에서 오는 진동 에너지를 흡수하여 건물에 주는 진동을 줄여주는 진동 격리장치입니다. 그리고 AD, PD에 면한 벽체의 결로에 대한 대책으로는 단열재를 미실하게 시공하여 결로가 생기는 벽체의 표면 온도를 노점온도 이상으로 유지해주는 것이 중요합니다. 결로가 발생하는 것을 방지하기 위해서는 적절한 수온조절과 단열재 시공이 필요합니다. 또한, 실내 습도를 적정 수준으로 유지하고 외부에서의 열이나 수분이 벽체에 스며들지 않도록 주의해야 합니다. AD, PD에 면한 벽체 결로에 대한 대책으로는 건물의 외부와 내부 온도 대조를 잘 조절하여 결로 발생을 최소화하는 것이 필요합니다. </s>'},\n",
       " {'text': '<s> Question: 면진장치가 뭐야? 그리고 AD, PD에 면한 벽체 결로에 대한 대책은 어떤 것이 있나요? Answer: 면진장치란 건물의 지반에서 발생하는 진동 에너지를 흡수하여 건물을 보호하고, 진동을 줄여주는 장치입니다. 주로 지진이나 기타 지반의 진동으로 인한 피해를 방지하기 위해 사용됩니다. 그리고 AD, PD에 면한 벽체 결로에 대한 대책은 단열재를 미실하게 시공하여 결로가 생기는 벽체의 표면 온도를 노점온도 이상으로만 유지해주는 것이 중요합니다. 노점온도는 결로가 발생하는 환경온도를 의미하는데, 단열재를 사용하여 벽체의 표면 온도를 노점온도 이상으로 유지하면 결로 현상을 방지할 수 있습니다. 이 외에도 통풍을 유지하고 수분의 이동을 막는 등의 추가적인 대책이 필요할 수 있습니다. </s>'},\n",
       " {'text': '<s> Question: 면진장치가 뭐야? 그리고 AD, PD에 면한 벽체 결로에 대한 대책은 어떤 것이 있나요? Answer: 면진장치란 지반으로부터 발생하는 진동 에너지를 흡수하여 건물에 전달되는 진동을 줄여주는 장치를 말합니다. 이를 통해 건물의 안전성과 안정성을 향상시키고, 지진 등의 외부 충격으로부터 보호하는 역할을 합니다. 지진으로 인한 건물의 피해를 최소화하기 위해 주로 사용됩니다. 그리고 AD, PD에 면한 벽체 결로에 대한 대책은 단열재를 미실하게 시공하여 결로가 생기는 벽체의 표면 온도를 노점온도 이상으로만 유지해주는 것이 중요합니다. 그 외에도 실외습기의 유입을 차단하고, 적절한 환기 시스템을 활용하여 공간 내 습도를 유지하고 벽체 표면을 건조하게 유지하는 것이 필요합니다. 또한, 외피의 방수 및 수증기 차단 기능을 강화하여 벽체 내부로의 습기 유입을 최소화해야 합니다. 일반적으로는 벽체의 표면뿐만 아니라 내부적으로도 겉지문 및 방수층의 철저한 시공이 필요합니다. </s>'}]"
      ]
     },
     "execution_count": 12,
     "metadata": {},
     "output_type": "execute_result"
    }
   ],
   "source": [
    "formatted_data[:3]"
   ]
  },
  {
   "cell_type": "code",
   "execution_count": null,
   "id": "e8e91fb0-9f68-47a6-94cc-0bf542c1da62",
   "metadata": {},
   "outputs": [],
   "source": []
  }
 ],
 "metadata": {
  "kernelspec": {
   "display_name": "mllm",
   "language": "python",
   "name": "mllm"
  },
  "language_info": {
   "codemirror_mode": {
    "name": "ipython",
    "version": 3
   },
   "file_extension": ".py",
   "mimetype": "text/x-python",
   "name": "python",
   "nbconvert_exporter": "python",
   "pygments_lexer": "ipython3",
   "version": "3.9.18"
  }
 },
 "nbformat": 4,
 "nbformat_minor": 5
}
